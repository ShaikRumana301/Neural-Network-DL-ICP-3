{
 "cells": [
  {
   "cell_type": "code",
   "execution_count": 36,
   "metadata": {},
   "outputs": [
    {
     "name": "stdout",
     "output_type": "stream",
     "text": [
      "Please Enter number of Employees: 2\n",
      "Enter Employee name: Rumana Shaik\n",
      "Enter number of family members: 4\n",
      "Enter Salary: 8790\n",
      "Enter the Employee department: IT\n",
      "Enter Employee name: Vani\n",
      "Enter number of family members: 4\n",
      "Enter Salary: 7890\n",
      "Enter the Employee department: Cyber\n",
      "Please Enter number of Full time employees: 1\n",
      "Enter the Full time Employee name: Rahul\n",
      "Enter number of family members: 3\n",
      "Enter the Salary: 6780\n",
      "Enter the Full Time Employee Department: Finance\n",
      "The total Number of Employees and Full time Employess are:  3\n",
      "The average salary of the all the Employees and Full time Employees are:  7820.0\n"
     ]
    }
   ],
   "source": [
    "class Employee:\n",
    "    no_of_emp=0\n",
    "    def __init__(self,name,family,salary,department): #constructor to initialise Name,Family,Salary and Department.\n",
    "        self.name =name \n",
    "        self.family =family \n",
    "        self.salary=salary \n",
    "        self.department=department\n",
    "        Employee.no_of_emp+=1 #counting the number of employees.\n",
    "    def avg_salary(self,emp):  #function for calculating the average salary of all employees.\n",
    "        sal=sum(emp.salary for emp in emp)\n",
    "        print(\"The average salary of the all the Employees and Full time Employees are: \",sal/len(emp)) \n",
    "    \n",
    "class Fulltime_Employee(Employee):\n",
    "    pass #using pass to inherit the Employee class\n",
    "\n",
    "n=int(input(\"Please Enter number of Employees: \")) \n",
    "emp=[] \n",
    "for i in range(0,n):  #using for loop to take the input dynamically.\n",
    "    na=input(\"Enter Employee name: \") \n",
    "    fam=int(input(\"Enter number of family members: \")) \n",
    "    sal=int(input(\"Enter Salary: \")) \n",
    "    dept=input(\"Enter the Employee department: \") \n",
    "    obj=Employee(na,fam,sal,dept) \n",
    "    emp.append(obj) \n",
    "    \n",
    "num_fte=int(input(\"Please Enter number of Full time employees: \"))  \n",
    "for i in range(0,num_fte): \n",
    "    na=input(\"Enter the Full time Employee name: \") \n",
    "    fam=int(input(\"Enter number of family members: \")) \n",
    "    sal=int(input(\"Enter the Salary: \")) \n",
    "    dept=input(\"Enter the Full Time Employee Department: \") \n",
    "    fte=Fulltime_Employee(na,fam,sal,dept) \n",
    "    emp.append(fte) \n",
    "     \n",
    "print(\"The total Number of Employees and Full time Employess are: \",Employee.no_of_emp) #using datamember to print the employee count\n",
    "result=Employee(na,fam,sal,dept)\n",
    "result.avg_salary(emp) #function call to print the Employees avg salary"
   ]
  },
  {
   "cell_type": "code",
   "execution_count": 25,
   "metadata": {},
   "outputs": [
    {
     "name": "stdout",
     "output_type": "stream",
     "text": [
      "Vector : [ 1.  2.  3.  4.  5.  6.  7.  8.  9. 10. 11. 12. 13. 14. 15. 16. 17. 18.\n",
      " 19. 20.]\n",
      "Then reshape the array to 4 by 5: [[ 1.  2.  3.  4.  5.]\n",
      " [ 6.  7.  8.  9. 10.]\n",
      " [11. 12. 13. 14. 15.]\n",
      " [16. 17. 18. 19. 20.]]\n",
      "The Resultant array where replace the max in each row by 0 (axis=1) is: [[ 1.  2.  3.  4.  0.]\n",
      " [ 6.  7.  8.  9.  0.]\n",
      " [11. 12. 13. 14.  0.]\n",
      " [16. 17. 18. 19.  0.]]\n"
     ]
    }
   ],
   "source": [
    "import numpy as np #import numpy\n",
    "x = np.arange(1,21,dtype=float) #given vector of size 1-20\n",
    "print(\"Vector :\",x) \n",
    "x=x.reshape(4,5) #use the reshape() method to reshape the array into 4*5 \n",
    "print(\"Then reshape the array to 4 by 5:\",x) \n",
    "def replace(x): \n",
    "    b=x \n",
    "    b[:,np.argmax(x, axis=1)] = 0 #replace the max in each row by 0 with axis =1\n",
    "    return b\n",
    "result= replace(x) \n",
    "print(\"The Resultant array where replace the max in each row by 0 (axis=1) is:\",result)"
   ]
  },
  {
   "cell_type": "code",
   "execution_count": null,
   "metadata": {},
   "outputs": [],
   "source": []
  }
 ],
 "metadata": {
  "kernelspec": {
   "display_name": "Python 3",
   "language": "python",
   "name": "python3"
  }
 },
 "nbformat": 4,
 "nbformat_minor": 4
}
